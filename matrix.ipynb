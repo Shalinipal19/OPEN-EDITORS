{
 "cells": [
  {
   "cell_type": "code",
   "execution_count": 1,
   "metadata": {},
   "outputs": [],
   "source": [
    "# multiply two matrix using list comprehension\n",
    "x = [[1,7,3],\n",
    "     [3,5,6],\n",
    "     [6,8,9]]\n",
    "y = [[1,1,1,2],\n",
    "     [6,7,3,0],\n",
    "     [4,5,9,1]]"
   ]
  },
  {
   "cell_type": "code",
   "execution_count": 4,
   "metadata": {},
   "outputs": [
    {
     "name": "stdout",
     "output_type": "stream",
     "text": [
      "[55, 65, 49, 5]\n",
      "[57, 68, 72, 12]\n",
      "[90, 107, 111, 21]\n"
     ]
    }
   ],
   "source": [
    "# result will be 3*4 matrix\n",
    "result = [[sum(x*y for x,y in zip(X_row, Y_col))\n",
    "                        for Y_col in zip(*y)]\n",
    "                                for X_row in x]\n",
    "for r in result:\n",
    "    print(r)"
   ]
  },
  {
   "cell_type": "code",
   "execution_count": 6,
   "metadata": {},
   "outputs": [
    {
     "name": "stdout",
     "output_type": "stream",
     "text": [
      "[114 160 210  27]\n",
      "[ 74  97 373  14]\n",
      "[119 157 562  23]\n"
     ]
    }
   ],
   "source": [
    "#program to multiply two matrix(vectorized implementation)\n",
    "\n",
    "import numpy as np\n",
    "\n",
    "A=[[12,7,3],\n",
    "   [4,5,6],\n",
    "   [7,8,9]]\n",
    "\n",
    "B=[[5,8,1,2],\n",
    "   [6,7,3,0],\n",
    "   [4,5,59,1]]\n",
    "\n",
    "#result will be 3*4\n",
    "\n",
    "result=[[0,0,0,0],\n",
    "        [0,0,0,0],\n",
    "        [0,0,0,0]]\n",
    "\n",
    "result = np.dot(A,B)\n",
    "\n",
    "for r in result:\n",
    "    print(r)\n",
    "A=[[5,8,1,2],\n",
    "   [6,7,3,0],\n",
    "   [4,5,59,1]]\n"
   ]
  },
  {
   "cell_type": "code",
   "execution_count": null,
   "metadata": {},
   "outputs": [],
   "source": []
  }
 ],
 "metadata": {
  "kernelspec": {
   "display_name": "base",
   "language": "python",
   "name": "python3"
  },
  "language_info": {
   "codemirror_mode": {
    "name": "ipython",
    "version": 3
   },
   "file_extension": ".py",
   "mimetype": "text/x-python",
   "name": "python",
   "nbconvert_exporter": "python",
   "pygments_lexer": "ipython3",
   "version": "3.10.12"
  },
  "orig_nbformat": 4
 },
 "nbformat": 4,
 "nbformat_minor": 2
}
