{
 "cells": [
  {
   "cell_type": "code",
   "execution_count": 1,
   "metadata": {},
   "outputs": [
    {
     "name": "stdout",
     "output_type": "stream",
     "text": [
      "The speed value os car in Miles: 8.699194\n"
     ]
    }
   ],
   "source": [
    "def kilometre_1(km):\n",
    "    conversion_ratio_1=0.621371\n",
    "    miles_1=km* conversion_ratio_1\n",
    "    print(\"The speed value os car in Miles:\",miles_1)\n",
    "km = float(input(\"Please enter the speed of car in Kilometre as a unit:\"))\n",
    "kilometre_1(km)"
   ]
  },
  {
   "cell_type": "code",
   "execution_count": 4,
   "metadata": {},
   "outputs": [
    {
     "name": "stdout",
     "output_type": "stream",
     "text": [
      "The 34.00 degree Celcius is equal to:93.20 Farenheit\n",
      "----OR----\n",
      "The 23.00 degree Celsius is equal to:73.40 fahrenheit\n"
     ]
    }
   ],
   "source": [
    "#For converting the temperature to degree fahrenheit by using the above\n",
    "celsius_1= float(input(\"Temperature value in degree Celsius:\"))\n",
    "Fahrenheit_1= (celsius_1*1.8)+32\n",
    "print('The %.2f degree Celcius is equal to:%.2f Farenheit'\n",
    "      %(celsius_1,Fahrenheit_1))\n",
    "\n",
    "print(\"----OR----\")\n",
    "celsius_2= float (input(\"Temperature value in degreeCelsius:\"))\n",
    "Fahrenheit_2= (celsius_2 * 9/5)+32\n",
    "\n",
    "print('The %.2f degree Celsius is equal to:%.2f fahrenheit'\n",
    "      %(celsius_2, Fahrenheit_2))"
   ]
  }
 ],
 "metadata": {
  "kernelspec": {
   "display_name": "base",
   "language": "python",
   "name": "python3"
  },
  "language_info": {
   "codemirror_mode": {
    "name": "ipython",
    "version": 3
   },
   "file_extension": ".py",
   "mimetype": "text/x-python",
   "name": "python",
   "nbconvert_exporter": "python",
   "pygments_lexer": "ipython3",
   "version": "3.10.12"
  },
  "orig_nbformat": 4
 },
 "nbformat": 4,
 "nbformat_minor": 2
}
