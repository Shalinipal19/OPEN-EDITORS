{
 "cells": [
  {
   "cell_type": "code",
   "execution_count": 19,
   "metadata": {},
   "outputs": [
    {
     "name": "stdout",
     "output_type": "stream",
     "text": [
      "[1, 2, 3, 4, 5, 6]\n"
     ]
    }
   ],
   "source": [
    "def insertion_sort_recursive(arr):\n",
    "    # base case: return when array has only one element\n",
    "    if len(arr) <= 1:\n",
    "        return arr\n",
    " \n",
    "    # recursively sort the first half of the array\n",
    "    mid = len(arr) // 2\n",
    "    left_half = insertion_sort_recursive(arr[:mid])\n",
    " \n",
    "    # recursively sort the second half of the array\n",
    "    right_half = insertion_sort_recursive(arr[mid:])\n",
    " \n",
    "    # merge the sorted halves into a sorted array\n",
    "    i, j = 0, 0\n",
    "    sorted_arr = []\n",
    "    while i < len(left_half) and j < len(right_half):\n",
    "        if left_half[i] < right_half[j]:\n",
    "            sorted_arr.append(left_half[i])\n",
    "            i += 1\n",
    "        else:\n",
    "            sorted_arr.append(right_half[j])\n",
    "            j += 1\n",
    "    sorted_arr += left_half[i:]\n",
    "    sorted_arr += right_half[j:]\n",
    " \n",
    "    return sorted_arr\n",
    "arr = [5, 2, 4, 6, 1, 3]\n",
    "sorted_arr = insertion_sort_recursive(arr)\n",
    "print(sorted_arr)"
   ]
  },
  {
   "cell_type": "code",
   "execution_count": null,
   "metadata": {},
   "outputs": [],
   "source": []
  }
 ],
 "metadata": {
  "kernelspec": {
   "display_name": "base",
   "language": "python",
   "name": "python3"
  },
  "language_info": {
   "codemirror_mode": {
    "name": "ipython",
    "version": 3
   },
   "file_extension": ".py",
   "mimetype": "text/x-python",
   "name": "python",
   "nbconvert_exporter": "python",
   "pygments_lexer": "ipython3",
   "version": "3.10.12"
  },
  "orig_nbformat": 4
 },
 "nbformat": 4,
 "nbformat_minor": 2
}
