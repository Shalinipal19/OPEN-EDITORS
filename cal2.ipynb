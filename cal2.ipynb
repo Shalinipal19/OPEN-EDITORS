{
 "cells": [
  {
   "cell_type": "code",
   "execution_count": 1,
   "metadata": {},
   "outputs": [
    {
     "name": "stdout",
     "output_type": "stream",
     "text": [
      "<map object at 0x0000026FC56ED000>\n",
      "{16, 1, 4, 9}\n"
     ]
    }
   ],
   "source": [
    "def calculateSquare(n):\n",
    "    return n*n\n",
    "\n",
    "\n",
    "numbers = (1, 2, 3, 4)\n",
    "result = map(calculateSquare, numbers)\n",
    "print(result)\n",
    "\n",
    "# converting map object to set\n",
    "numbersSquare = set(result)\n",
    "print(numbersSquare)"
   ]
  }
 ],
 "metadata": {
  "kernelspec": {
   "display_name": "base",
   "language": "python",
   "name": "python3"
  },
  "language_info": {
   "codemirror_mode": {
    "name": "ipython",
    "version": 3
   },
   "file_extension": ".py",
   "mimetype": "text/x-python",
   "name": "python",
   "nbconvert_exporter": "python",
   "pygments_lexer": "ipython3",
   "version": "3.10.12"
  },
  "orig_nbformat": 4
 },
 "nbformat": 4,
 "nbformat_minor": 2
}
